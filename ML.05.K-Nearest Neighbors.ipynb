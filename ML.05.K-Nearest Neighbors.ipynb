{
 "cells": [
  {
   "cell_type": "markdown",
   "id": "9451d4ee-f31a-4bd0-bcdb-4e39bef41fac",
   "metadata": {},
   "source": [
    "# K-Nearest Neighbors"
   ]
  },
  {
   "cell_type": "markdown",
   "id": "3fb43e68-11a7-4cf6-a3d6-50eec34e5f49",
   "metadata": {},
   "source": [
    "**K-Nearest Neighbors** is a supervised learning algorithm. Where the data is 'trained' with data points corresponding to their classification. To predict the class of a given data point, it takes into account the classes of the 'K' nearest data points and chooses the class in which the majority of the 'K' nearest data points belong to as the predicted class.\n"
   ]
  },
  {
   "cell_type": "markdown",
   "id": "84b72283-faed-4b04-90c4-6620fd8d0994",
   "metadata": {},
   "source": [
    "### Here's an visualization of the K-Nearest Neighbors algorithm.\n",
    "\n",
    "<img src=\"https://cf-courses-data.s3.us.cloud-object-storage.appdomain.cloud/IBMDeveloperSkillsNetwork-ML0101EN-SkillsNetwork/labs/Module%203/images/KNN_Diagram.png\">\n"
   ]
  },
  {
   "cell_type": "markdown",
   "id": "bd2ba252-13e6-423a-b765-9d2e3fbf988e",
   "metadata": {},
   "source": [
    "In this case, we have data points of Class A and B. We want to predict what the star (test data point) is. If we consider a k value of 3 (3 nearest data points), we will obtain a prediction of Class B. Yet if we consider a k value of 6, we will obtain a prediction of Class A.\n"
   ]
  },
  {
   "cell_type": "markdown",
   "id": "65c8edf7-91fe-4d99-8545-53f71cbb6e9b",
   "metadata": {},
   "source": [
    "In this sense, it is important to consider the value of k. Hopefully from this diagram, you should get a sense of what the K-Nearest Neighbors algorithm is. It considers the 'K' Nearest Neighbors (data points) when it predicts the classification of the test point.\n"
   ]
  },
  {
   "cell_type": "markdown",
   "id": "52e886ef-d31b-4853-88cf-11cbb34f30f1",
   "metadata": {},
   "source": [
    "<h1>Table of contents</h1>\n",
    "\n",
    "<div>\n",
    "    <ol>\n",
    "        <li><a href=\"https://#about_dataset\">About the dataset</a></li>\n",
    "        <li><a href=\"https://#visualization_analysis\">Data Visualization and Analysis</a></li>\n",
    "        <li><a href=\"https://#classification\">Classification</a></li>\n",
    "    </ol>\n",
    "</div>\n",
    "<br>\n",
    "<hr>\n"
   ]
  },
  {
   "cell_type": "code",
   "execution_count": 2,
   "id": "34064624-672d-468b-bf9a-47cfb9d3bc37",
   "metadata": {},
   "outputs": [
    {
     "name": "stdout",
     "output_type": "stream",
     "text": [
      "Collecting scikit-learn==0.23.1\n",
      "  Downloading scikit-learn-0.23.1.tar.gz (7.2 MB)\n",
      "     ---------------------------------------- 0.0/7.2 MB ? eta -:--:--\n",
      "     ---------------------------------------- 0.0/7.2 MB 660.6 kB/s eta 0:00:11\n",
      "      --------------------------------------- 0.1/7.2 MB 1.6 MB/s eta 0:00:05\n",
      "     -- ------------------------------------- 0.4/7.2 MB 2.9 MB/s eta 0:00:03\n",
      "     ---- ----------------------------------- 0.9/7.2 MB 6.2 MB/s eta 0:00:02\n",
      "     ----- ---------------------------------- 1.0/7.2 MB 6.6 MB/s eta 0:00:01\n",
      "     ----- ---------------------------------- 1.0/7.2 MB 6.6 MB/s eta 0:00:01\n",
      "     ----- ---------------------------------- 1.0/7.2 MB 6.6 MB/s eta 0:00:01\n",
      "     ----- ---------------------------------- 1.0/7.2 MB 6.6 MB/s eta 0:00:01\n",
      "     ----- ---------------------------------- 1.0/7.2 MB 6.6 MB/s eta 0:00:01\n",
      "     ------ --------------------------------- 1.2/7.2 MB 3.2 MB/s eta 0:00:02\n",
      "     ------- -------------------------------- 1.4/7.2 MB 3.2 MB/s eta 0:00:02\n",
      "     ---------- ----------------------------- 1.9/7.2 MB 3.7 MB/s eta 0:00:02\n",
      "     ------------ --------------------------- 2.3/7.2 MB 4.5 MB/s eta 0:00:02\n",
      "     ---------------- ----------------------- 2.9/7.2 MB 5.2 MB/s eta 0:00:01\n",
      "     -------------------- ------------------- 3.6/7.2 MB 6.1 MB/s eta 0:00:01\n",
      "     ------------------------ --------------- 4.4/7.2 MB 7.0 MB/s eta 0:00:01\n",
      "     ---------------------------- ----------- 5.0/7.2 MB 7.3 MB/s eta 0:00:01\n",
      "     -------------------------------- ------- 5.9/7.2 MB 8.2 MB/s eta 0:00:01\n",
      "     ------------------------------------ --- 6.5/7.2 MB 8.5 MB/s eta 0:00:01\n",
      "     ---------------------------------------  7.1/7.2 MB 8.9 MB/s eta 0:00:01\n",
      "     ---------------------------------------- 7.2/7.2 MB 8.6 MB/s eta 0:00:00\n",
      "  Installing build dependencies: started\n",
      "  Installing build dependencies: still running...\n",
      "  Installing build dependencies: finished with status 'error'\n"
     ]
    },
    {
     "name": "stderr",
     "output_type": "stream",
     "text": [
      "  error: subprocess-exited-with-error\n",
      "  \n",
      "  pip subprocess to install build dependencies did not run successfully.\n",
      "  exit code: 1\n",
      "  \n",
      "  [354 lines of output]\n",
      "  Ignoring numpy: markers 'python_version == \"3.6\" and platform_system != \"AIX\" and platform_python_implementation == \"CPython\"' don't match your environment\n",
      "  Ignoring numpy: markers 'python_version == \"3.6\" and platform_system != \"AIX\" and platform_python_implementation != \"CPython\"' don't match your environment\n",
      "  Ignoring numpy: markers 'python_version == \"3.7\" and platform_system != \"AIX\"' don't match your environment\n",
      "  Ignoring numpy: markers 'python_version == \"3.6\" and platform_system == \"AIX\"' don't match your environment\n",
      "  Ignoring numpy: markers 'python_version == \"3.7\" and platform_system == \"AIX\"' don't match your environment\n",
      "  Ignoring numpy: markers 'python_version >= \"3.8\" and platform_system == \"AIX\"' don't match your environment\n",
      "  Collecting setuptools\n",
      "    Downloading setuptools-71.1.0-py3-none-any.whl.metadata (6.6 kB)\n",
      "  Collecting wheel\n",
      "    Downloading wheel-0.43.0-py3-none-any.whl.metadata (2.2 kB)\n",
      "  Collecting Cython>=0.28.5\n",
      "    Downloading Cython-3.0.10-cp311-cp311-win_amd64.whl.metadata (3.2 kB)\n",
      "  Collecting numpy==1.17.3\n",
      "    Downloading numpy-1.17.3.zip (6.4 MB)\n",
      "       ---------------------------------------- 0.0/6.4 MB ? eta -:--:--\n",
      "       ---------------------------------------- 0.0/6.4 MB 991.0 kB/s eta 0:00:07\n",
      "       - -------------------------------------- 0.2/6.4 MB 3.1 MB/s eta 0:00:02\n",
      "       --- ------------------------------------ 0.5/6.4 MB 4.9 MB/s eta 0:00:02\n",
      "       ------ --------------------------------- 1.1/6.4 MB 6.9 MB/s eta 0:00:01\n",
      "       --------- ------------------------------ 1.4/6.4 MB 7.1 MB/s eta 0:00:01\n",
      "       ------------ --------------------------- 1.9/6.4 MB 8.2 MB/s eta 0:00:01\n",
      "       ---------------- ----------------------- 2.6/6.4 MB 9.3 MB/s eta 0:00:01\n",
      "       -------------------- ------------------- 3.2/6.4 MB 9.9 MB/s eta 0:00:01\n",
      "       ------------------------ --------------- 3.9/6.4 MB 10.3 MB/s eta 0:00:01\n",
      "       ---------------------------- ----------- 4.5/6.4 MB 10.7 MB/s eta 0:00:01\n",
      "       -------------------------------- ------- 5.2/6.4 MB 11.0 MB/s eta 0:00:01\n",
      "       ------------------------------------ --- 5.8/6.4 MB 11.2 MB/s eta 0:00:01\n",
      "       ---------------------------------------  6.2/6.4 MB 11.7 MB/s eta 0:00:01\n",
      "       ---------------------------------------  6.4/6.4 MB 11.3 MB/s eta 0:00:01\n",
      "       ---------------------------------------- 6.4/6.4 MB 10.7 MB/s eta 0:00:00\n",
      "    Preparing metadata (setup.py): started\n",
      "    Preparing metadata (setup.py): finished with status 'done'\n",
      "  Collecting scipy>=0.19.1\n",
      "    Downloading scipy-1.14.0-cp311-cp311-win_amd64.whl.metadata (60 kB)\n",
      "       ---------------------------------------- 0.0/60.8 kB ? eta -:--:--\n",
      "       ---------------------------------------- 60.8/60.8 kB ? eta 0:00:00\n",
      "  INFO: pip is looking at multiple versions of scipy to determine which version is compatible with other requirements. This could take a while.\n",
      "    Downloading scipy-1.13.1-cp311-cp311-win_amd64.whl.metadata (60 kB)\n",
      "       ---------------------------------------- 0.0/60.6 kB ? eta -:--:--\n",
      "       ---------------------------------------- 60.6/60.6 kB ? eta 0:00:00\n",
      "    Downloading scipy-1.13.0-cp311-cp311-win_amd64.whl.metadata (60 kB)\n",
      "       ---------------------------------------- 0.0/60.6 kB ? eta -:--:--\n",
      "       ---------------------------------------- 60.6/60.6 kB 3.1 MB/s eta 0:00:00\n",
      "    Downloading scipy-1.12.0-cp311-cp311-win_amd64.whl.metadata (60 kB)\n",
      "       ---------------------------------------- 0.0/60.4 kB ? eta -:--:--\n",
      "       ---------------------------------------- 60.4/60.4 kB ? eta 0:00:00\n",
      "    Downloading scipy-1.11.4-cp311-cp311-win_amd64.whl.metadata (60 kB)\n",
      "       ---------------------------------------- 0.0/60.4 kB ? eta -:--:--\n",
      "       ---------------------------------------- 60.4/60.4 kB 3.3 MB/s eta 0:00:00\n",
      "    Downloading scipy-1.11.3-cp311-cp311-win_amd64.whl.metadata (60 kB)\n",
      "       ---------------------------------------- 0.0/60.4 kB ? eta -:--:--\n",
      "       ---------------------------------------- 60.4/60.4 kB 3.3 MB/s eta 0:00:00\n",
      "    Downloading scipy-1.11.2-cp311-cp311-win_amd64.whl.metadata (59 kB)\n",
      "       ---------------------------------------- 0.0/59.1 kB ? eta -:--:--\n",
      "       ---------------------------------------- 59.1/59.1 kB 3.1 MB/s eta 0:00:00\n",
      "    Downloading scipy-1.11.1-cp311-cp311-win_amd64.whl.metadata (59 kB)\n",
      "       ---------------------------------------- 0.0/59.1 kB ? eta -:--:--\n",
      "       ---------------------------------------- 59.1/59.1 kB 3.1 MB/s eta 0:00:00\n",
      "  INFO: pip is still looking at multiple versions of scipy to determine which version is compatible with other requirements. This could take a while.\n",
      "    Downloading scipy-1.10.1-cp311-cp311-win_amd64.whl.metadata (58 kB)\n",
      "       ---------------------------------------- 0.0/59.0 kB ? eta -:--:--\n",
      "       ---------------------------------------- 59.0/59.0 kB ? eta 0:00:00\n",
      "    Downloading scipy-1.10.0-cp311-cp311-win_amd64.whl.metadata (58 kB)\n",
      "       ---------------------------------------- 0.0/58.9 kB ? eta -:--:--\n",
      "       ---------------------------------------- 58.9/58.9 kB 3.0 MB/s eta 0:00:00\n",
      "    Downloading scipy-1.9.3-cp311-cp311-win_amd64.whl.metadata (58 kB)\n",
      "       ---------------------------------------- 0.0/58.5 kB ? eta -:--:--\n",
      "       ---------------------------------------- 58.5/58.5 kB 3.0 MB/s eta 0:00:00\n",
      "    Downloading scipy-1.9.2-cp311-cp311-win_amd64.whl.metadata (58 kB)\n",
      "       ---------------------------------------- 0.0/58.5 kB ? eta -:--:--\n",
      "       ---------------------------------------- 58.5/58.5 kB 3.0 MB/s eta 0:00:00\n",
      "    Downloading scipy-1.9.1.tar.gz (42.0 MB)\n",
      "       ---------------------------------------- 0.0/42.0 MB ? eta -:--:--\n",
      "       ---------------------------------------- 0.5/42.0 MB 30.7 MB/s eta 0:00:02\n",
      "        --------------------------------------- 1.0/42.0 MB 16.4 MB/s eta 0:00:03\n",
      "        --------------------------------------- 1.0/42.0 MB 16.4 MB/s eta 0:00:03\n",
      "        --------------------------------------- 1.0/42.0 MB 16.4 MB/s eta 0:00:03\n",
      "        --------------------------------------- 1.0/42.0 MB 16.4 MB/s eta 0:00:03\n",
      "        --------------------------------------- 1.0/42.0 MB 16.4 MB/s eta 0:00:03\n",
      "       - -------------------------------------- 1.1/42.0 MB 3.5 MB/s eta 0:00:12\n",
      "       - -------------------------------------- 1.5/42.0 MB 4.3 MB/s eta 0:00:10\n",
      "       -- ------------------------------------- 2.1/42.0 MB 5.4 MB/s eta 0:00:08\n",
      "       -- ------------------------------------- 2.9/42.0 MB 6.7 MB/s eta 0:00:06\n",
      "       -- ------------------------------------- 3.1/42.0 MB 7.2 MB/s eta 0:00:06\n",
      "       -- ------------------------------------- 3.1/42.0 MB 7.2 MB/s eta 0:00:06\n",
      "       -- ------------------------------------- 3.1/42.0 MB 7.2 MB/s eta 0:00:06\n",
      "       -- ------------------------------------- 3.1/42.0 MB 7.2 MB/s eta 0:00:06\n",
      "       -- ------------------------------------- 3.1/42.0 MB 7.2 MB/s eta 0:00:06\n",
      "       -- ------------------------------------- 3.1/42.0 MB 7.2 MB/s eta 0:00:06\n",
      "       -- ------------------------------------- 3.1/42.0 MB 7.2 MB/s eta 0:00:06\n",
      "       --- ------------------------------------ 3.3/42.0 MB 4.2 MB/s eta 0:00:10\n",
      "       --- ------------------------------------ 4.0/42.0 MB 4.8 MB/s eta 0:00:08\n",
      "       ---- ----------------------------------- 4.6/42.0 MB 5.2 MB/s eta 0:00:08\n",
      "       ----- ---------------------------------- 5.3/42.0 MB 5.8 MB/s eta 0:00:07\n",
      "       ----- ---------------------------------- 5.8/42.0 MB 6.2 MB/s eta 0:00:06\n",
      "       ----- ---------------------------------- 6.3/42.0 MB 6.5 MB/s eta 0:00:06\n",
      "       ----- ---------------------------------- 6.3/42.0 MB 6.5 MB/s eta 0:00:06\n",
      "       ----- ---------------------------------- 6.3/42.0 MB 6.5 MB/s eta 0:00:06\n",
      "       ----- ---------------------------------- 6.3/42.0 MB 6.5 MB/s eta 0:00:06\n",
      "       ----- ---------------------------------- 6.3/42.0 MB 6.5 MB/s eta 0:00:06\n",
      "       ------ --------------------------------- 6.5/42.0 MB 5.4 MB/s eta 0:00:07\n",
      "       ------ --------------------------------- 7.1/42.0 MB 5.7 MB/s eta 0:00:07\n",
      "       ------- -------------------------------- 7.7/42.0 MB 6.1 MB/s eta 0:00:06\n",
      "       ------- -------------------------------- 8.3/42.0 MB 6.3 MB/s eta 0:00:06\n",
      "       -------- ------------------------------- 8.9/42.0 MB 6.6 MB/s eta 0:00:06\n",
      "       --------- ------------------------------ 9.6/42.0 MB 6.9 MB/s eta 0:00:05\n",
      "       --------- ------------------------------ 10.3/42.0 MB 7.1 MB/s eta 0:00:05\n",
      "       ---------- ----------------------------- 10.9/42.0 MB 7.1 MB/s eta 0:00:05\n",
      "       ----------- ---------------------------- 11.6/42.0 MB 8.7 MB/s eta 0:00:04\n",
      "       ----------- ---------------------------- 12.4/42.0 MB 8.7 MB/s eta 0:00:04\n",
      "       ----------- ---------------------------- 12.6/42.0 MB 8.7 MB/s eta 0:00:04\n",
      "       ----------- ---------------------------- 12.6/42.0 MB 8.7 MB/s eta 0:00:04\n",
      "       ----------- ---------------------------- 12.6/42.0 MB 8.7 MB/s eta 0:00:04\n",
      "       ------------ --------------------------- 12.9/42.0 MB 7.7 MB/s eta 0:00:04\n",
      "       ------------ -------------------------- 13.6/42.0 MB 10.4 MB/s eta 0:00:03\n",
      "       ------------ -------------------------- 13.6/42.0 MB 10.4 MB/s eta 0:00:03\n",
      "       ------------ -------------------------- 13.6/42.0 MB 10.4 MB/s eta 0:00:03\n",
      "       ------------ -------------------------- 13.6/42.0 MB 10.4 MB/s eta 0:00:03\n",
      "       ------------- -------------------------- 14.0/42.0 MB 8.8 MB/s eta 0:00:04\n",
      "       ------------- -------------------------- 14.7/42.0 MB 8.8 MB/s eta 0:00:04\n",
      "       ------------- -------------------------- 14.7/42.0 MB 8.8 MB/s eta 0:00:04\n",
      "       ------------- -------------------------- 14.7/42.0 MB 8.8 MB/s eta 0:00:04\n",
      "       ------------- -------------------------- 14.7/42.0 MB 8.8 MB/s eta 0:00:04\n",
      "       ------------- -------------------------- 14.7/42.0 MB 8.8 MB/s eta 0:00:04\n",
      "       ------------- -------------------------- 14.7/42.0 MB 8.8 MB/s eta 0:00:04\n",
      "       -------------- ------------------------- 15.0/42.0 MB 7.2 MB/s eta 0:00:04\n",
      "       -------------- ------------------------- 15.6/42.0 MB 7.3 MB/s eta 0:00:04\n",
      "       -------------- ------------------------- 15.7/42.0 MB 7.2 MB/s eta 0:00:04\n",
      "       -------------- ------------------------- 15.7/42.0 MB 7.2 MB/s eta 0:00:04\n",
      "       -------------- ------------------------- 15.7/42.0 MB 7.2 MB/s eta 0:00:04\n",
      "       -------------- ------------------------- 15.7/42.0 MB 7.2 MB/s eta 0:00:04\n",
      "       --------------- ------------------------ 15.9/42.0 MB 6.4 MB/s eta 0:00:05\n",
      "       ---------------- ----------------------- 16.8/42.0 MB 7.4 MB/s eta 0:00:04\n",
      "       ---------------- ----------------------- 17.5/42.0 MB 7.4 MB/s eta 0:00:04\n",
      "       ---------------- ----------------------- 17.8/42.0 MB 7.4 MB/s eta 0:00:04\n",
      "       ---------------- ----------------------- 17.8/42.0 MB 7.4 MB/s eta 0:00:04\n",
      "       ---------------- ----------------------- 17.8/42.0 MB 7.4 MB/s eta 0:00:04\n",
      "       ---------------- ----------------------- 17.8/42.0 MB 7.4 MB/s eta 0:00:04\n",
      "       ----------------- ---------------------- 18.0/42.0 MB 6.5 MB/s eta 0:00:04\n",
      "       ----------------- ---------------------- 18.9/42.0 MB 6.6 MB/s eta 0:00:04\n",
      "       ----------------- ---------------------- 18.9/42.0 MB 6.5 MB/s eta 0:00:04\n",
      "       ----------------- ---------------------- 18.9/42.0 MB 6.5 MB/s eta 0:00:04\n",
      "       ----------------- ---------------------- 18.9/42.0 MB 6.5 MB/s eta 0:00:04\n",
      "       ----------------- ---------------------- 18.9/42.0 MB 6.5 MB/s eta 0:00:04\n",
      "       ------------------ --------------------- 19.4/42.0 MB 5.8 MB/s eta 0:00:04\n",
      "       ------------------ --------------------- 19.9/42.0 MB 5.8 MB/s eta 0:00:04\n",
      "       ------------------ --------------------- 19.9/42.0 MB 5.8 MB/s eta 0:00:04\n",
      "       ------------------ --------------------- 19.9/42.0 MB 5.8 MB/s eta 0:00:04\n",
      "       ------------------ --------------------- 19.9/42.0 MB 5.8 MB/s eta 0:00:04\n",
      "       ------------------ --------------------- 19.9/42.0 MB 5.8 MB/s eta 0:00:04\n",
      "       ------------------- -------------------- 20.2/42.0 MB 5.2 MB/s eta 0:00:05\n",
      "       ------------------- -------------------- 20.8/42.0 MB 5.2 MB/s eta 0:00:05\n",
      "       -------------------- ------------------- 21.4/42.0 MB 5.2 MB/s eta 0:00:04\n",
      "       --------------------- ------------------ 22.1/42.0 MB 5.2 MB/s eta 0:00:04\n",
      "       --------------------- ------------------ 22.8/42.0 MB 5.6 MB/s eta 0:00:04\n",
      "       --------------------- ------------------ 23.1/42.0 MB 5.6 MB/s eta 0:00:04\n",
      "       --------------------- ------------------ 23.1/42.0 MB 5.6 MB/s eta 0:00:04\n",
      "       --------------------- ------------------ 23.1/42.0 MB 5.6 MB/s eta 0:00:04\n",
      "       --------------------- ------------------ 23.1/42.0 MB 5.6 MB/s eta 0:00:04\n",
      "       --------------------- ------------------ 23.1/42.0 MB 5.6 MB/s eta 0:00:04\n",
      "       --------------------- ------------------ 23.1/42.0 MB 5.6 MB/s eta 0:00:04\n",
      "       ---------------------- ----------------- 23.2/42.0 MB 4.8 MB/s eta 0:00:04\n",
      "       ---------------------- ----------------- 23.8/42.0 MB 4.8 MB/s eta 0:00:04\n",
      "       ---------------------- ----------------- 24.1/42.0 MB 5.2 MB/s eta 0:00:04\n",
      "       ---------------------- ----------------- 24.1/42.0 MB 5.2 MB/s eta 0:00:04\n",
      "       ---------------------- ----------------- 24.1/42.0 MB 5.2 MB/s eta 0:00:04\n",
      "       ----------------------- ---------------- 24.5/42.0 MB 4.9 MB/s eta 0:00:04\n",
      "       ----------------------- ---------------- 25.1/42.0 MB 5.6 MB/s eta 0:00:04\n",
      "       ----------------------- ---------------- 25.2/42.0 MB 5.6 MB/s eta 0:00:04\n",
      "       ----------------------- ---------------- 25.2/42.0 MB 5.6 MB/s eta 0:00:04\n",
      "       ----------------------- ---------------- 25.2/42.0 MB 5.6 MB/s eta 0:00:04\n",
      "       ----------------------- ---------------- 25.2/42.0 MB 5.6 MB/s eta 0:00:04\n",
      "       ----------------------- ---------------- 25.2/42.0 MB 5.6 MB/s eta 0:00:04\n",
      "       ------------------------ --------------- 25.7/42.0 MB 5.0 MB/s eta 0:00:04\n",
      "       ------------------------ --------------- 26.2/42.0 MB 5.5 MB/s eta 0:00:03\n",
      "       ------------------------ --------------- 26.2/42.0 MB 5.5 MB/s eta 0:00:03\n",
      "       ------------------------ --------------- 26.2/42.0 MB 5.5 MB/s eta 0:00:03\n",
      "       ------------------------ --------------- 26.2/42.0 MB 5.5 MB/s eta 0:00:03\n",
      "       ------------------------ --------------- 26.2/42.0 MB 5.5 MB/s eta 0:00:03\n",
      "       ------------------------ --------------- 26.2/42.0 MB 5.5 MB/s eta 0:00:03\n",
      "       ------------------------- -------------- 26.9/42.0 MB 4.9 MB/s eta 0:00:04\n",
      "       -------------------------- ------------- 27.5/42.0 MB 4.9 MB/s eta 0:00:03\n",
      "       -------------------------- ------------- 27.8/42.0 MB 4.8 MB/s eta 0:00:03\n",
      "       -------------------------- ------------- 28.1/42.0 MB 5.2 MB/s eta 0:00:03\n",
      "       -------------------------- ------------- 28.3/42.0 MB 5.2 MB/s eta 0:00:03\n",
      "       -------------------------- ------------- 28.3/42.0 MB 5.2 MB/s eta 0:00:03\n",
      "       -------------------------- ------------- 28.3/42.0 MB 5.2 MB/s eta 0:00:03\n",
      "       --------------------------- ------------ 28.5/42.0 MB 5.0 MB/s eta 0:00:03\n",
      "       --------------------------- ------------ 28.8/42.0 MB 4.9 MB/s eta 0:00:03\n",
      "       --------------------------- ------------ 29.0/42.0 MB 4.8 MB/s eta 0:00:03\n",
      "       --------------------------- ------------ 29.2/42.0 MB 5.2 MB/s eta 0:00:03\n",
      "       ---------------------------- ----------- 29.5/42.0 MB 5.2 MB/s eta 0:00:03\n",
      "       ---------------------------- ----------- 29.6/42.0 MB 5.1 MB/s eta 0:00:03\n",
      "       ---------------------------- ----------- 29.9/42.0 MB 5.0 MB/s eta 0:00:03\n",
      "       ---------------------------- ----------- 30.0/42.0 MB 5.0 MB/s eta 0:00:03\n",
      "       ---------------------------- ----------- 30.2/42.0 MB 5.4 MB/s eta 0:00:03\n",
      "       ---------------------------- ----------- 30.4/42.0 MB 5.3 MB/s eta 0:00:03\n",
      "       ----------------------------- ---------- 30.9/42.0 MB 5.3 MB/s eta 0:00:03\n",
      "       ----------------------------- ---------- 31.5/42.0 MB 5.3 MB/s eta 0:00:02\n",
      "       ------------------------------ --------- 31.9/42.0 MB 5.3 MB/s eta 0:00:02\n",
      "       ------------------------------ --------- 32.5/42.0 MB 5.3 MB/s eta 0:00:02\n",
      "       ------------------------------ --------- 32.5/42.0 MB 5.3 MB/s eta 0:00:02\n",
      "       ------------------------------ --------- 32.5/42.0 MB 5.3 MB/s eta 0:00:02\n",
      "       ------------------------------ --------- 32.5/42.0 MB 5.3 MB/s eta 0:00:02\n",
      "       ------------------------------- -------- 32.7/42.0 MB 4.9 MB/s eta 0:00:02\n",
      "       -------------------------------- ------- 33.6/42.0 MB 5.6 MB/s eta 0:00:02\n",
      "       -------------------------------- ------- 34.3/42.0 MB 5.7 MB/s eta 0:00:02\n",
      "       -------------------------------- ------- 34.6/42.0 MB 6.2 MB/s eta 0:00:02\n",
      "       -------------------------------- ------- 34.6/42.0 MB 6.2 MB/s eta 0:00:02\n",
      "       -------------------------------- ------- 34.6/42.0 MB 6.2 MB/s eta 0:00:02\n",
      "       -------------------------------- ------- 34.6/42.0 MB 6.2 MB/s eta 0:00:02\n",
      "       -------------------------------- ------- 34.6/42.0 MB 6.2 MB/s eta 0:00:02\n",
      "       -------------------------------- ------- 34.6/42.0 MB 6.2 MB/s eta 0:00:02\n",
      "       -------------------------------- ------- 34.6/42.0 MB 6.2 MB/s eta 0:00:02\n",
      "       -------------------------------- ------- 34.6/42.0 MB 6.2 MB/s eta 0:00:02\n",
      "       -------------------------------- ------- 34.6/42.0 MB 6.2 MB/s eta 0:00:02\n",
      "       -------------------------------- ------- 34.6/42.0 MB 6.2 MB/s eta 0:00:02\n",
      "       -------------------------------- ------- 34.6/42.0 MB 6.2 MB/s eta 0:00:02\n",
      "       -------------------------------- ------- 34.6/42.0 MB 6.2 MB/s eta 0:00:02\n",
      "       -------------------------------- ------- 34.6/42.0 MB 6.2 MB/s eta 0:00:02\n",
      "       -------------------------------- ------- 34.6/42.0 MB 6.2 MB/s eta 0:00:02\n",
      "       -------------------------------- ------- 34.6/42.0 MB 6.2 MB/s eta 0:00:02\n",
      "       -------------------------------- ------- 34.6/42.0 MB 6.2 MB/s eta 0:00:02\n",
      "       -------------------------------- ------- 34.6/42.0 MB 6.2 MB/s eta 0:00:02\n",
      "       -------------------------------- ------- 34.6/42.0 MB 6.2 MB/s eta 0:00:02\n",
      "       -------------------------------- ------- 34.6/42.0 MB 6.2 MB/s eta 0:00:02\n",
      "       --------------------------------- ------ 34.7/42.0 MB 4.0 MB/s eta 0:00:02\n",
      "       --------------------------------- ------ 35.2/42.0 MB 4.0 MB/s eta 0:00:02\n",
      "       ---------------------------------- ----- 35.8/42.0 MB 4.4 MB/s eta 0:00:02\n",
      "       ---------------------------------- ----- 36.5/42.0 MB 4.8 MB/s eta 0:00:02\n",
      "       ---------------------------------- ----- 36.7/42.0 MB 4.8 MB/s eta 0:00:02\n",
      "       ---------------------------------- ----- 36.7/42.0 MB 4.8 MB/s eta 0:00:02\n",
      "       ---------------------------------- ----- 36.7/42.0 MB 4.8 MB/s eta 0:00:02\n",
      "       ---------------------------------- ----- 36.7/42.0 MB 4.8 MB/s eta 0:00:02\n",
      "       ----------------------------------- ---- 37.3/42.0 MB 4.4 MB/s eta 0:00:02\n",
      "       ----------------------------------- ---- 37.7/42.0 MB 4.4 MB/s eta 0:00:01\n",
      "       ----------------------------------- ---- 37.7/42.0 MB 4.4 MB/s eta 0:00:01\n",
      "       ----------------------------------- ---- 37.7/42.0 MB 4.4 MB/s eta 0:00:01\n",
      "       ----------------------------------- ---- 37.7/42.0 MB 4.4 MB/s eta 0:00:01\n",
      "       ------------------------------------ --- 38.2/42.0 MB 4.1 MB/s eta 0:00:01\n",
      "       ------------------------------------ --- 38.8/42.0 MB 4.4 MB/s eta 0:00:01\n",
      "       ------------------------------------ --- 38.8/42.0 MB 4.4 MB/s eta 0:00:01\n",
      "       ------------------------------------ --- 38.8/42.0 MB 4.4 MB/s eta 0:00:01\n",
      "       ------------------------------------ --- 38.8/42.0 MB 4.4 MB/s eta 0:00:01\n",
      "       ------------------------------------ --- 38.8/42.0 MB 4.4 MB/s eta 0:00:01\n",
      "       ------------------------------------ --- 38.8/42.0 MB 4.4 MB/s eta 0:00:01\n",
      "       ------------------------------------ --- 38.8/42.0 MB 4.4 MB/s eta 0:00:01\n",
      "       ------------------------------------- -- 39.2/42.0 MB 4.0 MB/s eta 0:00:01\n",
      "       ------------------------------------- -- 39.8/42.0 MB 4.1 MB/s eta 0:00:01\n",
      "       ------------------------------------- -- 39.8/42.0 MB 4.1 MB/s eta 0:00:01\n",
      "       ------------------------------------- -- 39.8/42.0 MB 4.1 MB/s eta 0:00:01\n",
      "       ------------------------------------- -- 39.8/42.0 MB 4.1 MB/s eta 0:00:01\n",
      "       ------------------------------------- -- 39.8/42.0 MB 4.1 MB/s eta 0:00:01\n",
      "       ------------------------------------- -- 39.8/42.0 MB 4.1 MB/s eta 0:00:01\n",
      "       ------------------------------------- -- 39.8/42.0 MB 4.1 MB/s eta 0:00:01\n",
      "       ------------------------------------- -- 39.8/42.0 MB 4.1 MB/s eta 0:00:01\n",
      "       ------------------------------------- -- 39.8/42.0 MB 4.1 MB/s eta 0:00:01\n",
      "       ------------------------------------- -- 39.8/42.0 MB 4.1 MB/s eta 0:00:01\n",
      "       ------------------------------------- -- 39.8/42.0 MB 4.1 MB/s eta 0:00:01\n",
      "       ------------------------------------- -- 39.8/42.0 MB 4.1 MB/s eta 0:00:01\n",
      "       ------------------------------------- -- 39.8/42.0 MB 4.1 MB/s eta 0:00:01\n",
      "       ------------------------------------- -- 39.8/42.0 MB 4.1 MB/s eta 0:00:01\n",
      "       ------------------------------------- -- 39.8/42.0 MB 4.1 MB/s eta 0:00:01\n",
      "       ------------------------------------- -- 39.8/42.0 MB 4.1 MB/s eta 0:00:01\n",
      "       ------------------------------------- -- 39.8/42.0 MB 4.1 MB/s eta 0:00:01\n",
      "       ------------------------------------- -- 39.8/42.0 MB 4.1 MB/s eta 0:00:01\n",
      "       ------------------------------------- -- 39.8/42.0 MB 4.1 MB/s eta 0:00:01\n",
      "       -------------------------------------- - 40.0/42.0 MB 3.0 MB/s eta 0:00:01\n",
      "       ---------------------------------------  41.0/42.0 MB 3.1 MB/s eta 0:00:01\n",
      "       ---------------------------------------  41.8/42.0 MB 3.1 MB/s eta 0:00:01\n",
      "       ---------------------------------------  42.0/42.0 MB 3.1 MB/s eta 0:00:01\n",
      "       ---------------------------------------  42.0/42.0 MB 3.1 MB/s eta 0:00:01\n",
      "       ---------------------------------------  42.0/42.0 MB 3.1 MB/s eta 0:00:01\n",
      "       ---------------------------------------  42.0/42.0 MB 3.1 MB/s eta 0:00:01\n",
      "       ---------------------------------------  42.0/42.0 MB 3.1 MB/s eta 0:00:01\n",
      "       ---------------------------------------  42.0/42.0 MB 3.1 MB/s eta 0:00:01\n",
      "       ---------------------------------------  42.0/42.0 MB 3.1 MB/s eta 0:00:01\n",
      "       ---------------------------------------- 42.0/42.0 MB 2.9 MB/s eta 0:00:00\n",
      "    Installing build dependencies: started\n",
      "    Installing build dependencies: finished with status 'done'\n",
      "    Getting requirements to build wheel: started\n",
      "    Getting requirements to build wheel: finished with status 'error'\n",
      "    error: subprocess-exited-with-error\n",
      "  \n",
      "    Getting requirements to build wheel did not run successfully.\n",
      "    exit code: 1\n",
      "  \n",
      "    [55 lines of output]\n",
      "    The Meson build system\n",
      "    Version: 0.62.2\n",
      "    Source dir: C:\\Users\\84904\\AppData\\Local\\Temp\\pip-install-4utyb05k\\scipy_f1810930ed814d2e8ccbb2819b403c85\n",
      "    Build dir: C:\\Users\\84904\\AppData\\Local\\Temp\\pip-install-4utyb05k\\scipy_f1810930ed814d2e8ccbb2819b403c85\\.mesonpy-uv5asrqj\\build\n",
      "    Build type: native build\n",
      "    Project name: SciPy\n",
      "    Project version: 1.9.1\n",
      "    WARNING: Failed to activate VS environment: Could not find C:\\Program Files (x86)\\Microsoft Visual Studio\\Installer\\vswhere.exe\n",
      "  \n",
      "    ..\\..\\meson.build:1:0: ERROR: Unknown compiler(s): [['icl'], ['cl'], ['cc'], ['gcc'], ['clang'], ['clang-cl'], ['pgcc']]\n",
      "    The following exception(s) were encountered:\n",
      "    Running \"icl \" gave \"[WinError 2] The system cannot find the file specified\"\n",
      "    Running \"cl /?\" gave \"[WinError 2] The system cannot find the file specified\"\n",
      "    Running \"cc --version\" gave \"[WinError 2] The system cannot find the file specified\"\n",
      "    Running \"gcc --version\" gave \"[WinError 2] The system cannot find the file specified\"\n",
      "    Running \"clang --version\" gave \"[WinError 2] The system cannot find the file specified\"\n",
      "    Running \"clang-cl /?\" gave \"[WinError 2] The system cannot find the file specified\"\n",
      "    Running \"pgcc --version\" gave \"[WinError 2] The system cannot find the file specified\"\n",
      "  \n",
      "    A full log can be found at C:\\Users\\84904\\AppData\\Local\\Temp\\pip-install-4utyb05k\\scipy_f1810930ed814d2e8ccbb2819b403c85\\.mesonpy-uv5asrqj\\build\\meson-logs\\meson-log.txt\n",
      "    \u001b[36m\u001b[1m+ meson setup --native-file=C:\\Users\\84904\\AppData\\Local\\Temp\\pip-install-4utyb05k\\scipy_f1810930ed814d2e8ccbb2819b403c85\\.mesonpy-native-file.ini -Ddebug=false -Doptimization=2 --prefix=D:\\001 PYTHON C:\\Users\\84904\\AppData\\Local\\Temp\\pip-install-4utyb05k\\scipy_f1810930ed814d2e8ccbb2819b403c85 C:\\Users\\84904\\AppData\\Local\\Temp\\pip-install-4utyb05k\\scipy_f1810930ed814d2e8ccbb2819b403c85\\.mesonpy-uv5asrqj\\build\u001b[0m\n",
      "    Traceback (most recent call last):\n",
      "      File \"D:\\001 PYTHON\\Lib\\site-packages\\pip\\_vendor\\pyproject_hooks\\_in_process\\_in_process.py\", line 353, in <module>\n",
      "        main()\n",
      "      File \"D:\\001 PYTHON\\Lib\\site-packages\\pip\\_vendor\\pyproject_hooks\\_in_process\\_in_process.py\", line 335, in main\n",
      "        json_out['return_val'] = hook(**hook_input['kwargs'])\n",
      "                                 ^^^^^^^^^^^^^^^^^^^^^^^^^^^^\n",
      "      File \"D:\\001 PYTHON\\Lib\\site-packages\\pip\\_vendor\\pyproject_hooks\\_in_process\\_in_process.py\", line 118, in get_requires_for_build_wheel\n",
      "        return hook(config_settings)\n",
      "               ^^^^^^^^^^^^^^^^^^^^^\n",
      "      File \"C:\\Users\\84904\\AppData\\Local\\Temp\\pip-build-env-o5p5_unf\\overlay\\Lib\\site-packages\\mesonpy\\__init__.py\", line 969, in get_requires_for_build_wheel\n",
      "        with _project(config_settings) as project:\n",
      "      File \"D:\\001 PYTHON\\Lib\\contextlib.py\", line 137, in __enter__\n",
      "        return next(self.gen)\n",
      "               ^^^^^^^^^^^^^^\n",
      "      File \"C:\\Users\\84904\\AppData\\Local\\Temp\\pip-build-env-o5p5_unf\\overlay\\Lib\\site-packages\\mesonpy\\__init__.py\", line 948, in _project\n",
      "        with Project.with_temp_working_dir(\n",
      "      File \"D:\\001 PYTHON\\Lib\\contextlib.py\", line 137, in __enter__\n",
      "        return next(self.gen)\n",
      "               ^^^^^^^^^^^^^^\n",
      "      File \"C:\\Users\\84904\\AppData\\Local\\Temp\\pip-build-env-o5p5_unf\\overlay\\Lib\\site-packages\\mesonpy\\__init__.py\", line 777, in with_temp_working_dir\n",
      "        yield cls(source_dir, tmpdir, build_dir)\n",
      "              ^^^^^^^^^^^^^^^^^^^^^^^^^^^^^^^^^^\n",
      "      File \"C:\\Users\\84904\\AppData\\Local\\Temp\\pip-build-env-o5p5_unf\\overlay\\Lib\\site-packages\\mesonpy\\__init__.py\", line 682, in __init__\n",
      "        self._configure(reconfigure=bool(build_dir) and not native_file_mismatch)\n",
      "      File \"C:\\Users\\84904\\AppData\\Local\\Temp\\pip-build-env-o5p5_unf\\overlay\\Lib\\site-packages\\mesonpy\\__init__.py\", line 713, in _configure\n",
      "        self._meson(\n",
      "      File \"C:\\Users\\84904\\AppData\\Local\\Temp\\pip-build-env-o5p5_unf\\overlay\\Lib\\site-packages\\mesonpy\\__init__.py\", line 696, in _meson\n",
      "        return self._proc('meson', *args)\n",
      "               ^^^^^^^^^^^^^^^^^^^^^^^^^^\n",
      "      File \"C:\\Users\\84904\\AppData\\Local\\Temp\\pip-build-env-o5p5_unf\\overlay\\Lib\\site-packages\\mesonpy\\__init__.py\", line 691, in _proc\n",
      "        subprocess.check_call(list(args))\n",
      "      File \"D:\\001 PYTHON\\Lib\\subprocess.py\", line 413, in check_call\n",
      "        raise CalledProcessError(retcode, cmd)\n",
      "    subprocess.CalledProcessError: Command '['meson', 'setup', '--native-file=C:\\\\Users\\\\84904\\\\AppData\\\\Local\\\\Temp\\\\pip-install-4utyb05k\\\\scipy_f1810930ed814d2e8ccbb2819b403c85\\\\.mesonpy-native-file.ini', '-Ddebug=false', '-Doptimization=2', '--prefix=D:\\\\001 PYTHON', 'C:\\\\Users\\\\84904\\\\AppData\\\\Local\\\\Temp\\\\pip-install-4utyb05k\\\\scipy_f1810930ed814d2e8ccbb2819b403c85', 'C:\\\\Users\\\\84904\\\\AppData\\\\Local\\\\Temp\\\\pip-install-4utyb05k\\\\scipy_f1810930ed814d2e8ccbb2819b403c85\\\\.mesonpy-uv5asrqj\\\\build']' returned non-zero exit status 1.\n",
      "    [end of output]\n",
      "  \n",
      "    note: This error originates from a subprocess, and is likely not a problem with pip.\n",
      "  error: subprocess-exited-with-error\n",
      "  \n",
      "  Getting requirements to build wheel did not run successfully.\n",
      "  exit code: 1\n",
      "  \n",
      "  See above for output.\n",
      "  \n",
      "  note: This error originates from a subprocess, and is likely not a problem with pip.\n",
      "  [end of output]\n",
      "  \n",
      "  note: This error originates from a subprocess, and is likely not a problem with pip.\n",
      "error: subprocess-exited-with-error\n",
      "\n",
      "pip subprocess to install build dependencies did not run successfully.\n",
      "exit code: 1\n",
      "\n",
      "See above for output.\n",
      "\n",
      "note: This error originates from a subprocess, and is likely not a problem with pip.\n"
     ]
    }
   ],
   "source": [
    "!pip install scikit-learn==0.23.1"
   ]
  },
  {
   "cell_type": "markdown",
   "id": "6ca7de41-50f4-41a7-bc3c-2c8690f14ab6",
   "metadata": {},
   "source": [
    "Let's load required libraries\n"
   ]
  },
  {
   "cell_type": "code",
   "execution_count": 3,
   "id": "4c22ff04-90d1-48fc-954f-4ba44ad3ab07",
   "metadata": {},
   "outputs": [],
   "source": [
    "import numpy as np\n",
    "import matplotlib.pyplot as plt\n",
    "import pandas as pd\n",
    "import numpy as np\n",
    "from sklearn import preprocessing\n",
    "%matplotlib inline"
   ]
  },
  {
   "cell_type": "markdown",
   "id": "4e1da51c-1b68-427e-9f7b-4a330d3e6ee0",
   "metadata": {},
   "source": [
    "<div id=\"about_dataset\">\n",
    "    <h2>About the dataset</h2>\n",
    "</div>\n",
    "\n",
    "Imagine a telecommunications provider has segmented its customer base by service usage patterns, categorizing the customers into four groups. If demographic data can be used to predict group membership, the company can customize offers for individual prospective customers. It is a classification problem. That is, given the dataset,  with predefined labels, we need to build a model to be used to predict class of a new or unknown case.\n",
    "\n",
    "The example focuses on using demographic data, such as region, age, and marital, to predict usage patterns.\n",
    "\n",
    "The target field, called **custcat**, has four possible values that correspond to the four customer groups, as follows:\n",
    "1- Basic Service\n",
    "2- E-Service\n",
    "3- Plus Service\n",
    "4- Total Service\n",
    "\n",
    "Our objective is to build a classifier, to predict the class of unknown cases. We will use a specific type of classification called K nearest neighbour.\n"
   ]
  },
  {
   "cell_type": "markdown",
   "id": "61aa787f-c55a-44fc-9d1b-1c28040feb4c",
   "metadata": {},
   "source": [
    "### Load Data \n",
    "Let's read the data using pandas library and print the first five rows.\n"
   ]
  },
  {
   "cell_type": "code",
   "execution_count": 4,
   "id": "9ff39a5c-d745-49c6-986a-2cb116ca8f2d",
   "metadata": {},
   "outputs": [
    {
     "data": {
      "text/html": [
       "<div>\n",
       "<style scoped>\n",
       "    .dataframe tbody tr th:only-of-type {\n",
       "        vertical-align: middle;\n",
       "    }\n",
       "\n",
       "    .dataframe tbody tr th {\n",
       "        vertical-align: top;\n",
       "    }\n",
       "\n",
       "    .dataframe thead th {\n",
       "        text-align: right;\n",
       "    }\n",
       "</style>\n",
       "<table border=\"1\" class=\"dataframe\">\n",
       "  <thead>\n",
       "    <tr style=\"text-align: right;\">\n",
       "      <th></th>\n",
       "      <th>region</th>\n",
       "      <th>tenure</th>\n",
       "      <th>age</th>\n",
       "      <th>marital</th>\n",
       "      <th>address</th>\n",
       "      <th>income</th>\n",
       "      <th>ed</th>\n",
       "      <th>employ</th>\n",
       "      <th>retire</th>\n",
       "      <th>gender</th>\n",
       "      <th>reside</th>\n",
       "      <th>custcat</th>\n",
       "    </tr>\n",
       "  </thead>\n",
       "  <tbody>\n",
       "    <tr>\n",
       "      <th>0</th>\n",
       "      <td>2</td>\n",
       "      <td>13</td>\n",
       "      <td>44</td>\n",
       "      <td>1</td>\n",
       "      <td>9</td>\n",
       "      <td>64.0</td>\n",
       "      <td>4</td>\n",
       "      <td>5</td>\n",
       "      <td>0.0</td>\n",
       "      <td>0</td>\n",
       "      <td>2</td>\n",
       "      <td>1</td>\n",
       "    </tr>\n",
       "    <tr>\n",
       "      <th>1</th>\n",
       "      <td>3</td>\n",
       "      <td>11</td>\n",
       "      <td>33</td>\n",
       "      <td>1</td>\n",
       "      <td>7</td>\n",
       "      <td>136.0</td>\n",
       "      <td>5</td>\n",
       "      <td>5</td>\n",
       "      <td>0.0</td>\n",
       "      <td>0</td>\n",
       "      <td>6</td>\n",
       "      <td>4</td>\n",
       "    </tr>\n",
       "    <tr>\n",
       "      <th>2</th>\n",
       "      <td>3</td>\n",
       "      <td>68</td>\n",
       "      <td>52</td>\n",
       "      <td>1</td>\n",
       "      <td>24</td>\n",
       "      <td>116.0</td>\n",
       "      <td>1</td>\n",
       "      <td>29</td>\n",
       "      <td>0.0</td>\n",
       "      <td>1</td>\n",
       "      <td>2</td>\n",
       "      <td>3</td>\n",
       "    </tr>\n",
       "    <tr>\n",
       "      <th>3</th>\n",
       "      <td>2</td>\n",
       "      <td>33</td>\n",
       "      <td>33</td>\n",
       "      <td>0</td>\n",
       "      <td>12</td>\n",
       "      <td>33.0</td>\n",
       "      <td>2</td>\n",
       "      <td>0</td>\n",
       "      <td>0.0</td>\n",
       "      <td>1</td>\n",
       "      <td>1</td>\n",
       "      <td>1</td>\n",
       "    </tr>\n",
       "    <tr>\n",
       "      <th>4</th>\n",
       "      <td>2</td>\n",
       "      <td>23</td>\n",
       "      <td>30</td>\n",
       "      <td>1</td>\n",
       "      <td>9</td>\n",
       "      <td>30.0</td>\n",
       "      <td>1</td>\n",
       "      <td>2</td>\n",
       "      <td>0.0</td>\n",
       "      <td>0</td>\n",
       "      <td>4</td>\n",
       "      <td>3</td>\n",
       "    </tr>\n",
       "  </tbody>\n",
       "</table>\n",
       "</div>"
      ],
      "text/plain": [
       "   region  tenure  age  marital  address  income  ed  employ  retire  gender  \\\n",
       "0       2      13   44        1        9    64.0   4       5     0.0       0   \n",
       "1       3      11   33        1        7   136.0   5       5     0.0       0   \n",
       "2       3      68   52        1       24   116.0   1      29     0.0       1   \n",
       "3       2      33   33        0       12    33.0   2       0     0.0       1   \n",
       "4       2      23   30        1        9    30.0   1       2     0.0       0   \n",
       "\n",
       "   reside  custcat  \n",
       "0       2        1  \n",
       "1       6        4  \n",
       "2       2        3  \n",
       "3       1        1  \n",
       "4       4        3  "
      ]
     },
     "execution_count": 4,
     "metadata": {},
     "output_type": "execute_result"
    }
   ],
   "source": [
    "df = pd.read_csv('https://cf-courses-data.s3.us.cloud-object-storage.appdomain.cloud/IBMDeveloperSkillsNetwork-ML0101EN-SkillsNetwork/labs/Module%203/data/teleCust1000t.csv')\n",
    "df.head()"
   ]
  },
  {
   "cell_type": "markdown",
   "id": "0c901786-3895-4e19-b749-f89bc4b76cc9",
   "metadata": {},
   "source": [
    "<div id=\"visualization_analysis\">\n",
    "    <h2>Data Visualization and Analysis</h2> \n",
    "</div>\n",
    "#### Let’s see how many of each class is in our data set\n"
   ]
  },
  {
   "cell_type": "code",
   "execution_count": 5,
   "id": "95bd1fa0-567b-4a05-813c-46e06c82649b",
   "metadata": {},
   "outputs": [
    {
     "data": {
      "text/plain": [
       "custcat\n",
       "3    281\n",
       "1    266\n",
       "4    236\n",
       "2    217\n",
       "Name: count, dtype: int64"
      ]
     },
     "execution_count": 5,
     "metadata": {},
     "output_type": "execute_result"
    }
   ],
   "source": [
    "df['custcat'].value_counts()"
   ]
  },
  {
   "cell_type": "markdown",
   "id": "ea87518a-301c-41c7-812f-b625bdf8f392",
   "metadata": {},
   "source": [
    "#### 281 Plus Service, 266 Basic-service, 236 Total Service, and 217 E-Service customers\n"
   ]
  },
  {
   "cell_type": "markdown",
   "id": "3363b111-e9b9-4bd9-9f52-09263b843367",
   "metadata": {},
   "source": [
    "You can easily explore your data using visualization techniques:\n"
   ]
  },
  {
   "cell_type": "code",
   "execution_count": 7,
   "id": "e26ccfe8-b291-4412-8eb6-1d8667e5bc2c",
   "metadata": {},
   "outputs": [
    {
     "data": {
      "text/plain": [
       "array([[<Axes: title={'center': 'custcat'}>]], dtype=object)"
      ]
     },
     "execution_count": 7,
     "metadata": {},
     "output_type": "execute_result"
    },
    {
     "data": {
      "image/png": "[encoded data removed]",
      "text/plain": [
       "<Figure size 640x480 with 1 Axes>"
      ]
     },
     "metadata": {},
     "output_type": "display_data"
    }
   ],
   "source": [
    "df.hist(column='custcat', bins=50)"
   ]
  },
  {
   "cell_type": "markdown",
   "id": "6a99f2bf-fe99-41ae-9464-e3450c4ab067",
   "metadata": {},
   "source": [
    "### Feature set\n",
    "Let's define feature sets, X:\n"
   ]
  },
  {
   "cell_type": "code",
   "execution_count": 8,
   "id": "67cb419a-c3ba-45f8-bd72-7e9bd4b5e363",
   "metadata": {},
   "outputs": [
    {
     "data": {
      "text/plain": [
       "Index(['region', 'tenure', 'age', 'marital', 'address', 'income', 'ed',\n",
       "       'employ', 'retire', 'gender', 'reside', 'custcat'],\n",
       "      dtype='object')"
      ]
     },
     "execution_count": 8,
     "metadata": {},
     "output_type": "execute_result"
    }
   ],
   "source": [
    "df.columns"
   ]
  },
  {
   "cell_type": "markdown",
   "id": "d741cc50-a357-4021-806d-f496c8f6b776",
   "metadata": {},
   "source": [
    "To use scikit-learn library, we have to convert the Pandas data frame to a Numpy array:\n"
   ]
  },
  {
   "cell_type": "code",
   "execution_count": 9,
   "id": "c6fbb322-d29c-4306-ba1c-4cc7a79e788b",
   "metadata": {},
   "outputs": [
    {
     "data": {
      "text/plain": [
       "array([[  2.,  13.,  44.,   1.,   9.,  64.,   4.,   5.,   0.,   0.,   2.],\n",
       "       [  3.,  11.,  33.,   1.,   7., 136.,   5.,   5.,   0.,   0.,   6.],\n",
       "       [  3.,  68.,  52.,   1.,  24., 116.,   1.,  29.,   0.,   1.,   2.],\n",
       "       [  2.,  33.,  33.,   0.,  12.,  33.,   2.,   0.,   0.,   1.,   1.],\n",
       "       [  2.,  23.,  30.,   1.,   9.,  30.,   1.,   2.,   0.,   0.,   4.]])"
      ]
     },
     "execution_count": 9,
     "metadata": {},
     "output_type": "execute_result"
    }
   ],
   "source": [
    "X = df[['region', 'tenure','age', 'marital', 'address', 'income', 'ed', 'employ','retire', 'gender', 'reside']] .values  #.astype(float)\n",
    "X[0:5]\n"
   ]
  },
  {
   "cell_type": "markdown",
   "id": "477b14b9-3a71-4186-a160-b8ea562e61e5",
   "metadata": {},
   "source": [
    "What are our labels?\n"
   ]
  },
  {
   "cell_type": "code",
   "execution_count": 10,
   "id": "666d9887-3f16-4592-8af8-a177fdda8ade",
   "metadata": {},
   "outputs": [
    {
     "data": {
      "text/plain": [
       "array([1, 4, 3, 1, 3], dtype=int64)"
      ]
     },
     "execution_count": 10,
     "metadata": {},
     "output_type": "execute_result"
    }
   ],
   "source": [
    "y = df['custcat'].values\n",
    "y[0:5]"
   ]
  },
  {
   "cell_type": "markdown",
   "id": "e956932b-7c28-4028-abd3-ac9e0e587987",
   "metadata": {},
   "source": [
    "## Normalize Data\n"
   ]
  },
  {
   "cell_type": "markdown",
   "id": "a1a5e2e2-69e4-4390-8b78-963c2be5d712",
   "metadata": {},
   "source": [
    "Data Standardization gives the data zero mean and unit variance, it is good practice, especially for algorithms such as KNN which is based on the distance of data points:\n",
    "Chuẩn hóa dữ liệu bằng StandardScaler:\n",
    "X = preprocessing.StandardScaler().fit(X).transform(X.astype(float))\r\n",
    "preprocessing.StandardScaler(): Tạo một đối tượng StandardScaler. StandardScaler chuẩn hóa các đặc trưng bằng cách trừ đi giá trị trung bình và chia cho độ lệch chuẩn, giúp các đặc trưng có giá trị trung bình bằng 0 và độ lệch chuẩn bằng 1.\n",
    "\n",
    ".fit(X): Tính toán giá trị trung bình và độ lệch chuẩn của từng đặc trưng trong mảng `..............\n"
   ]
  },
  {
   "cell_type": "code",
   "execution_count": 11,
   "id": "1f88d7bc-960c-43fe-a996-0828b489f527",
   "metadata": {},
   "outputs": [
    {
     "data": {
      "text/plain": [
       "array([[-0.02696767, -1.055125  ,  0.18450456,  1.0100505 , -0.25303431,\n",
       "        -0.12650641,  1.0877526 , -0.5941226 , -0.22207644, -1.03459817,\n",
       "        -0.23065004],\n",
       "       [ 1.19883553, -1.14880563, -0.69181243,  1.0100505 , -0.4514148 ,\n",
       "         0.54644972,  1.9062271 , -0.5941226 , -0.22207644, -1.03459817,\n",
       "         2.55666158],\n",
       "       [ 1.19883553,  1.52109247,  0.82182601,  1.0100505 ,  1.23481934,\n",
       "         0.35951747, -1.36767088,  1.78752803, -0.22207644,  0.96655883,\n",
       "        -0.23065004],\n",
       "       [-0.02696767, -0.11831864, -0.69181243, -0.9900495 ,  0.04453642,\n",
       "        -0.41625141, -0.54919639, -1.09029981, -0.22207644,  0.96655883,\n",
       "        -0.92747794],\n",
       "       [-0.02696767, -0.58672182, -0.93080797,  1.0100505 , -0.25303431,\n",
       "        -0.44429125, -1.36767088, -0.89182893, -0.22207644, -1.03459817,\n",
       "         1.16300577]])"
      ]
     },
     "execution_count": 11,
     "metadata": {},
     "output_type": "execute_result"
    }
   ],
   "source": [
    "X = preprocessing.StandardScaler().fit(X).transform(X.astype(float))\n",
    "X[0:5]"
   ]
  },
  {
   "cell_type": "markdown",
   "id": "2277a75f-bf35-4dc5-9242-dc54ac1e352f",
   "metadata": {},
   "source": [
    "### Train Test Split\n",
    "\n",
    "Out of Sample Accuracy is the percentage of correct predictions that the model makes on data that the model has NOT been trained on. Doing a train and test on the same dataset will most likely have low out-of-sample accuracy, due to the likelihood of our model overfitting.\n",
    "\n",
    "It is important that our models have a high, out-of-sample accuracy, because the purpose of any model, of course, is to make correct predictions on unknown data. So how can we improve out-of-sample accuracy? One way is to use an evaluation approach called Train/Test Split.\n",
    "Train/Test Split involves splitting the dataset into training and testing sets respectively, which are mutually exclusive. After which, you train with the training set and test with the testing set.\n",
    "\n",
    "This will provide a more accurate evaluation on out-of-sample accuracy because the testing dataset is not part of the dataset that has been used to train the model. It is more realistic for the real world problems.\n"
   ]
  },
  {
   "cell_type": "code",
   "execution_count": 12,
   "id": "dcd3a6b3-e87f-416f-9857-5216f7bc7c10",
   "metadata": {},
   "outputs": [
    {
     "name": "stdout",
     "output_type": "stream",
     "text": [
      "Train set: (800, 11) (800,)\n",
      "Test set: (200, 11) (200,)\n"
     ]
    }
   ],
   "source": [
    "from sklearn.model_selection import train_test_split\n",
    "X_train, X_test, y_train, y_test = train_test_split( X, y, test_size=0.2, random_state=4)\n",
    "print ('Train set:', X_train.shape,  y_train.shape)\n",
    "print ('Test set:', X_test.shape,  y_test.shape)"
   ]
  },
  {
   "cell_type": "markdown",
   "id": "dc3ab4b5-f7fc-486d-87e2-5acf4a8bf6f4",
   "metadata": {},
   "source": [
    "<div id=\"classification\">\n",
    "    <h2>Classification</h2>\n",
    "</div>"
   ]
  },
  {
   "cell_type": "markdown",
   "id": "338156cb-d96b-47fd-9514-bcac52ca3f00",
   "metadata": {},
   "source": [
    "<h3>K nearest neighbor (KNN)</h3>\n"
   ]
  },
  {
   "cell_type": "markdown",
   "id": "b6d17a40-f54d-4f98-bc1d-a312276a1be5",
   "metadata": {},
   "source": [
    "#### Import library"
   ]
  },
  {
   "cell_type": "markdown",
   "id": "2883ba99-b1df-4726-bea2-67cb0b101880",
   "metadata": {},
   "source": [
    "Classifier implementing the k-nearest neighbors vote.\n"
   ]
  },
  {
   "cell_type": "code",
   "execution_count": 14,
   "id": "550de414-99ac-4a3c-9b02-47c11690993b",
   "metadata": {},
   "outputs": [],
   "source": [
    "from sklearn.neighbors import KNeighborsClassifier"
   ]
  },
  {
   "cell_type": "markdown",
   "id": "94ada3ee-52ce-4a14-86ae-2abd4dc42019",
   "metadata": {},
   "source": [
    "### Training\n",
    "\n",
    "Let's start the algorithm with k=4 for now:\n"
   ]
  },
  {
   "cell_type": "code",
   "execution_count": 15,
   "id": "87bdcc3f-df65-4df3-9709-02b33832e060",
   "metadata": {},
   "outputs": [
    {
     "data": {
      "text/html": [
       "<style>#sk-container-id-1 {color: black;background-color: white;}#sk-container-id-1 pre{padding: 0;}#sk-container-id-1 div.sk-toggleable {background-color: white;}#sk-container-id-1 label.sk-toggleable__label {cursor: pointer;display: block;width: 100%;margin-bottom: 0;padding: 0.3em;box-sizing: border-box;text-align: center;}#sk-container-id-1 label.sk-toggleable__label-arrow:before {content: \"▸\";float: left;margin-right: 0.25em;color: #696969;}#sk-container-id-1 label.sk-toggleable__label-arrow:hover:before {color: black;}#sk-container-id-1 div.sk-estimator:hover label.sk-toggleable__label-arrow:before {color: black;}#sk-container-id-1 div.sk-toggleable__content {max-height: 0;max-width: 0;overflow: hidden;text-align: left;background-color: #f0f8ff;}#sk-container-id-1 div.sk-toggleable__content pre {margin: 0.2em;color: black;border-radius: 0.25em;background-color: #f0f8ff;}#sk-container-id-1 input.sk-toggleable__control:checked~div.sk-toggleable__content {max-height: 200px;max-width: 100%;overflow: auto;}#sk-container-id-1 input.sk-toggleable__control:checked~label.sk-toggleable__label-arrow:before {content: \"▾\";}#sk-container-id-1 div.sk-estimator input.sk-toggleable__control:checked~label.sk-toggleable__label {background-color: #d4ebff;}#sk-container-id-1 div.sk-label input.sk-toggleable__control:checked~label.sk-toggleable__label {background-color: #d4ebff;}#sk-container-id-1 input.sk-hidden--visually {border: 0;clip: rect(1px 1px 1px 1px);clip: rect(1px, 1px, 1px, 1px);height: 1px;margin: -1px;overflow: hidden;padding: 0;position: absolute;width: 1px;}#sk-container-id-1 div.sk-estimator {font-family: monospace;background-color: #f0f8ff;border: 1px dotted black;border-radius: 0.25em;box-sizing: border-box;margin-bottom: 0.5em;}#sk-container-id-1 div.sk-estimator:hover {background-color: #d4ebff;}#sk-container-id-1 div.sk-parallel-item::after {content: \"\";width: 100%;border-bottom: 1px solid gray;flex-grow: 1;}#sk-container-id-1 div.sk-label:hover label.sk-toggleable__label {background-color: #d4ebff;}#sk-container-id-1 div.sk-serial::before {content: \"\";position: absolute;border-left: 1px solid gray;box-sizing: border-box;top: 0;bottom: 0;left: 50%;z-index: 0;}#sk-container-id-1 div.sk-serial {display: flex;flex-direction: column;align-items: center;background-color: white;padding-right: 0.2em;padding-left: 0.2em;position: relative;}#sk-container-id-1 div.sk-item {position: relative;z-index: 1;}#sk-container-id-1 div.sk-parallel {display: flex;align-items: stretch;justify-content: center;background-color: white;position: relative;}#sk-container-id-1 div.sk-item::before, #sk-container-id-1 div.sk-parallel-item::before {content: \"\";position: absolute;border-left: 1px solid gray;box-sizing: border-box;top: 0;bottom: 0;left: 50%;z-index: -1;}#sk-container-id-1 div.sk-parallel-item {display: flex;flex-direction: column;z-index: 1;position: relative;background-color: white;}#sk-container-id-1 div.sk-parallel-item:first-child::after {align-self: flex-end;width: 50%;}#sk-container-id-1 div.sk-parallel-item:last-child::after {align-self: flex-start;width: 50%;}#sk-container-id-1 div.sk-parallel-item:only-child::after {width: 0;}#sk-container-id-1 div.sk-dashed-wrapped {border: 1px dashed gray;margin: 0 0.4em 0.5em 0.4em;box-sizing: border-box;padding-bottom: 0.4em;background-color: white;}#sk-container-id-1 div.sk-label label {font-family: monospace;font-weight: bold;display: inline-block;line-height: 1.2em;}#sk-container-id-1 div.sk-label-container {text-align: center;}#sk-container-id-1 div.sk-container {/* jupyter's `normalize.less` sets `[hidden] { display: none; }` but bootstrap.min.css set `[hidden] { display: none !important; }` so we also need the `!important` here to be able to override the default hidden behavior on the sphinx rendered scikit-learn.org. See: https://github.com/scikit-learn/scikit-learn/issues/21755 */display: inline-block !important;position: relative;}#sk-container-id-1 div.sk-text-repr-fallback {display: none;}</style><div id=\"sk-container-id-1\" class=\"sk-top-container\"><div class=\"sk-text-repr-fallback\"><pre>KNeighborsClassifier(n_neighbors=4)</pre><b>In a Jupyter environment, please rerun this cell to show the HTML representation or trust the notebook. <br />On GitHub, the HTML representation is unable to render, please try loading this page with nbviewer.org.</b></div><div class=\"sk-container\" hidden><div class=\"sk-item\"><div class=\"sk-estimator sk-toggleable\"><input class=\"sk-toggleable__control sk-hidden--visually\" id=\"sk-estimator-id-1\" type=\"checkbox\" checked><label for=\"sk-estimator-id-1\" class=\"sk-toggleable__label sk-toggleable__label-arrow\">KNeighborsClassifier</label><div class=\"sk-toggleable__content\"><pre>KNeighborsClassifier(n_neighbors=4)</pre></div></div></div></div></div>"
      ],
      "text/plain": [
       "KNeighborsClassifier(n_neighbors=4)"
      ]
     },
     "execution_count": 15,
     "metadata": {},
     "output_type": "execute_result"
    }
   ],
   "source": [
    "k = 4\n",
    "#Train Model and Predict  \n",
    "neigh = KNeighborsClassifier(n_neighbors = k).fit(X_train,y_train)\n",
    "neigh"
   ]
  },
  {
   "cell_type": "markdown",
   "id": "6a9570e9-9c9e-4ef1-afe4-6d23619b1964",
   "metadata": {},
   "source": [
    "### Predicting\n",
    "We can use the model to make predictions on the test set:"
   ]
  },
  {
   "cell_type": "code",
   "execution_count": 16,
   "id": "4fae6719-e989-4887-9e5f-171fbe3881b1",
   "metadata": {},
   "outputs": [
    {
     "data": {
      "text/plain": [
       "array([1, 1, 3, 2, 4], dtype=int64)"
      ]
     },
     "execution_count": 16,
     "metadata": {},
     "output_type": "execute_result"
    }
   ],
   "source": [
    "yhat = neigh.predict(X_test)\n",
    "yhat[0:5]"
   ]
  },
  {
   "cell_type": "markdown",
   "id": "12062c7f-4022-4fdd-9352-7bbfbd2c321c",
   "metadata": {},
   "source": [
    "### Accuracy evaluation\n",
    "\n",
    "In multilabel classification, **accuracy classification score** is a function that computes subset accuracy. This function is equal to the jaccard_score function. Essentially, it calculates how closely the actual labels and predicted labels are matched in the test set.\n"
   ]
  },
  {
   "cell_type": "code",
   "execution_count": 17,
   "id": "48a40501-fe7b-4e92-bd15-1c9d09fb4c47",
   "metadata": {},
   "outputs": [
    {
     "name": "stdout",
     "output_type": "stream",
     "text": [
      "Train set Accuracy:  0.5475\n",
      "Test set Accuracy:  0.32\n"
     ]
    }
   ],
   "source": [
    "from sklearn import metrics\n",
    "print(\"Train set Accuracy: \", metrics.accuracy_score(y_train, neigh.predict(X_train)))\n",
    "print(\"Test set Accuracy: \", metrics.accuracy_score(y_test, yhat))"
   ]
  },
  {
   "cell_type": "markdown",
   "id": "78585d0e-0f1a-4400-a71c-c7e71073d0f0",
   "metadata": {},
   "source": [
    "## Practice\n",
    "\n",
    "Can you build the model again, but this time with k=6?"
   ]
  },
  {
   "cell_type": "code",
   "execution_count": 18,
   "id": "b011eab3-a0a8-41e9-ab86-23d219124534",
   "metadata": {},
   "outputs": [
    {
     "name": "stdout",
     "output_type": "stream",
     "text": [
      "Train set Accuracy:  0.51625\n",
      "Test set Accuracy:  0.31\n"
     ]
    }
   ],
   "source": [
    "k = 6\n",
    "neigh6 = KNeighborsClassifier(n_neighbors = k).fit(X_train,y_train)\n",
    "yhat6 = neigh6.predict(X_test)\n",
    "print(\"Train set Accuracy: \", metrics.accuracy_score(y_train, neigh6.predict(X_train)))\n",
    "print(\"Test set Accuracy: \", metrics.accuracy_score(y_test, yhat6))"
   ]
  },
  {
   "cell_type": "markdown",
   "id": "0637e159-83f3-47d7-95d0-25826beca352",
   "metadata": {},
   "source": [
    "#### What about other K?\n",
    "\n",
    "K in KNN, is the number of nearest neighbors to examine. It is supposed to be specified by the user. So, how can we choose right value for K?\n",
    "The general solution is to reserve a part of your data for testing the accuracy of the model. Then choose k =1, use the training part for modeling, and calculate the accuracy of prediction using all samples in your test set. Repeat this process, increasing the k, and see which k is the best for your model.\n",
    "\n",
    "We can calculate the accuracy of KNN for different values of k."
   ]
  },
  {
   "cell_type": "code",
   "execution_count": 19,
   "id": "c62df325-0bf4-424e-8bb1-8df990d155e4",
   "metadata": {},
   "outputs": [
    {
     "data": {
      "text/plain": [
       "array([0.3  , 0.29 , 0.315, 0.32 , 0.315, 0.31 , 0.335, 0.325, 0.34 ])"
      ]
     },
     "execution_count": 19,
     "metadata": {},
     "output_type": "execute_result"
    }
   ],
   "source": [
    "Ks = 10\n",
    "mean_acc = np.zeros((Ks-1))\n",
    "std_acc = np.zeros((Ks-1))\n",
    "\n",
    "for n in range(1,Ks):\n",
    "    \n",
    "    #Train Model and Predict  \n",
    "    neigh = KNeighborsClassifier(n_neighbors = n).fit(X_train,y_train)\n",
    "    yhat=neigh.predict(X_test)\n",
    "    mean_acc[n-1] = metrics.accuracy_score(y_test, yhat)\n",
    "\n",
    "    \n",
    "    std_acc[n-1]=np.std(yhat==y_test)/np.sqrt(yhat.shape[0])\n",
    "\n",
    "mean_acc"
   ]
  },
  {
   "cell_type": "markdown",
   "id": "c83b11e0-1f28-4eb8-83eb-7463ff2e1e6a",
   "metadata": {},
   "source": [
    "    #### Plot the model accuracy for a different number of neighbors.\n"
   ]
  },
  {
   "cell_type": "code",
   "execution_count": 20,
   "id": "d81823ac-1c05-4d5f-b665-a1f9b0be5584",
   "metadata": {},
   "outputs": [
    {
     "data": {
      "image/png": "[encoded data removed]",
      "text/plain": [
       "<Figure size 640x480 with 1 Axes>"
      ]
     },
     "metadata": {},
     "output_type": "display_data"
    }
   ],
   "source": [
    "plt.plot(range(1,Ks),mean_acc,'g')\n",
    "plt.fill_between(range(1,Ks),mean_acc - 1 * std_acc,mean_acc + 1 * std_acc, alpha=0.10)\n",
    "plt.fill_between(range(1,Ks),mean_acc - 3 * std_acc,mean_acc + 3 * std_acc, alpha=0.10,color=\"green\")\n",
    "plt.legend(('Accuracy ', '+/- 1xstd','+/- 3xstd'))\n",
    "plt.ylabel('Accuracy ')\n",
    "plt.xlabel('Number of Neighbors (K)')\n",
    "plt.tight_layout()\n",
    "plt.show()"
   ]
  },
  {
   "cell_type": "code",
   "execution_count": 21,
   "id": "0a6d0d53-826e-4a7d-bfc8-4fa3e1c7a841",
   "metadata": {},
   "outputs": [
    {
     "name": "stdout",
     "output_type": "stream",
     "text": [
      "The best accuracy was with 0.34 with k= 9\n"
     ]
    }
   ],
   "source": [
    "print( \"The best accuracy was with\", mean_acc.max(), \"with k=\", mean_acc.argmax()+1) "
   ]
  },
  {
   "cell_type": "code",
   "execution_count": null,
   "id": "9c9c004c-4c94-4b09-bb19-4c6db4496aea",
   "metadata": {},
   "outputs": [],
   "source": []
  }
 ],
 "metadata": {
  "kernelspec": {
   "display_name": "Python 3 (ipykernel)",
   "language": "python",
   "name": "python3"
  },
  "language_info": {
   "codemirror_mode": {
    "name": "ipython",
    "version": 3
   },
   "file_extension": ".py",
   "mimetype": "text/x-python",
   "name": "python",
   "nbconvert_exporter": "python",
   "pygments_lexer": "ipython3",
   "version": "3.11.7"
  }
 },
 "nbformat": 4,
 "nbformat_minor": 5
}
